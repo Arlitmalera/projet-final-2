{
 "cells": [
  {
   "cell_type": "code",
   "execution_count": 5,
   "id": "5a07949b",
   "metadata": {},
   "outputs": [
    {
     "name": "stdout",
     "output_type": "stream",
     "text": [
      "Le résultat FLAMES pour le  programme et python est Amis\n"
     ]
    }
   ],
   "source": [
    "def remove_common_chars(str1, str2):\n",
    "    \"\"\"\n",
    "    Cette fonction supprime les caractères communs de deux chaînes de caractères\n",
    "    \"\"\"\n",
    "    for char in str1:\n",
    "        if char in str2:\n",
    "            str1 = str1.replace(char, \"\", 1)\n",
    "            str2 = str2.replace(char, \"\", 1)\n",
    "    return str1, str2\n",
    "\n",
    "def count_chars(str):\n",
    "    \"\"\"\n",
    "    Cette fonction compte le nombre total de caractères dans une chaîne de caractères\n",
    "    \"\"\"\n",
    "    return len(str)\n",
    "\n",
    "def flames(str1, str2):\n",
    "    \"\"\"\n",
    "    Cette fonction calcule le résultat FLAMES pour deux chaînes de caractères données\n",
    "    \"\"\"\n",
    "    # Supprimer les caractères communs\n",
    "    str1, str2 = remove_common_chars(str1, str2)\n",
    "\n",
    "    # Compter le nombre total de caractères restants\n",
    "    count = count_chars(str1) + count_chars(str2)\n",
    "\n",
    "    # Créer la liste des résultats FLAMES\n",
    "    results = [\"Amis\", \"Amour\", \"Affection\", \"Mariage\", \"Ennemi\", \"Frères et sœurs\"]\n",
    "\n",
    "    # Itérer sur les résultats FLAMES jusqu'à ce qu'il ne reste plus qu'un mot\n",
    "    while len(results) > 1:\n",
    "        index = (count % len(results)) - 1\n",
    "        results.pop(index)\n",
    "        if index == -1:\n",
    "            index = len(results) - 1\n",
    "        results = results[index+1:] + results[:index]\n",
    "\n",
    "    # Le résultat final est le mot qui reste\n",
    "        return results[0]\n",
    "\n",
    "# Exemple d'utilisation\n",
    "str1 = \"programme\"\n",
    "str2 = \"python\"\n",
    "result = flames(str1, str2)\n",
    "print(\"Le résultat FLAMES pour le \", str1, \"et\", str2, \"est\", result)\n"
   ]
  }
 ],
 "metadata": {
  "kernelspec": {
   "display_name": "Python 3 (ipykernel)",
   "language": "python",
   "name": "python3"
  },
  "language_info": {
   "codemirror_mode": {
    "name": "ipython",
    "version": 3
   },
   "file_extension": ".py",
   "mimetype": "text/x-python",
   "name": "python",
   "nbconvert_exporter": "python",
   "pygments_lexer": "ipython3",
   "version": "3.9.13"
  }
 },
 "nbformat": 4,
 "nbformat_minor": 5
}
